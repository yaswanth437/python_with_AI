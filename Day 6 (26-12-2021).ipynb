{
 "cells": [
  {
   "cell_type": "markdown",
   "id": "b519a740",
   "metadata": {},
   "source": [
    "# Python Operations\n",
    "- To perform operations on variables and values"
   ]
  },
  {
   "cell_type": "markdown",
   "id": "52082fad",
   "metadata": {},
   "source": [
    "# Arthematic Operations\n",
    "- Used to perform Mathematical Operations\n",
    " - **+** = Addition\n",
    " - **-** = subtraction\n",
    " - **'*'** = multiplication\n",
    " - %   modulus "
   ]
  },
  {
   "cell_type": "code",
   "execution_count": null,
   "id": "d98c6930",
   "metadata": {},
   "outputs": [],
   "source": [
    "x=12\n",
    "y=6\n",
    "print(x+y)\n",
    "print(x-y)\n",
    "print(x*y)\n",
    "print(x/y)\n",
    "print(x%y)\n",
    "print(x**y)\n",
    "print(x//y)"
   ]
  },
  {
   "cell_type": "markdown",
   "id": "006d30df",
   "metadata": {},
   "source": [
    "# Assinment opearators\n",
    "- Used to Assign Values to Variables\n"
   ]
  },
  {
   "cell_type": "code",
   "execution_count": null,
   "id": "b966ccea",
   "metadata": {},
   "outputs": [],
   "source": [
    "x=3\n",
    "x+=4\n",
    "print(x)\n",
    "x-=6\n",
    "print(x)\n",
    "x*=4\n",
    "print(x)\n",
    "x/=2\n",
    "print(x)\n",
    "x%=5\n",
    "print(x)\n",
    "x=5\n",
    "x**=4\n",
    "print(x)\n",
    "x//=25\n",
    "print(x)"
   ]
  },
  {
   "cell_type": "markdown",
   "id": "527c1f72",
   "metadata": {},
   "source": [
    "# Comparision Operations\n",
    "- used to compare values\n",
    "- **'=='**\n",
    "- **'!='**\n",
    "- **'<'**\n",
    "- **'>'**\n",
    "- \n",
    "-"
   ]
  },
  {
   "cell_type": "code",
   "execution_count": null,
   "id": "0ddbef02",
   "metadata": {},
   "outputs": [],
   "source": [
    "x=5\n",
    "y=19\n",
    "print(x==y)\n",
    "print(x!=y)\n",
    "print(x<y)\n",
    "print(x>y)\n",
    "print(x<=y)\n",
    "print(x>=y)"
   ]
  },
  {
   "cell_type": "markdown",
   "id": "349caeb6",
   "metadata": {},
   "source": [
    "# Logic Operations\n",
    "- used to compare the conditional statements\n",
    "- Operators\n",
    "- **and**\n",
    "- **or**\n",
    "- **'not'**"
   ]
  },
  {
   "cell_type": "code",
   "execution_count": 6,
   "id": "c10de86f",
   "metadata": {},
   "outputs": [
    {
     "name": "stdout",
     "output_type": "stream",
     "text": [
      "False\n",
      "True\n",
      "False\n"
     ]
    }
   ],
   "source": [
    "x=4\n",
    "print(x<3 and x>7)\n",
    "print(x<3 or x<7)\n",
    "print(not(x<3 or x<7))\n"
   ]
  },
  {
   "cell_type": "markdown",
   "id": "25bd8e34",
   "metadata": {},
   "source": [
    "# Identity Operator\n",
    "- Used to compare operators\n",
    "- operators\n",
    "-  **is**\n",
    "- **is not**"
   ]
  },
  {
   "cell_type": "code",
   "execution_count": 7,
   "id": "5458aa2d",
   "metadata": {},
   "outputs": [
    {
     "name": "stdout",
     "output_type": "stream",
     "text": [
      "True\n",
      "False\n",
      "True\n"
     ]
    }
   ],
   "source": [
    "a=3\n",
    "b=3\n",
    "c=7\n",
    "print(a is b)\n",
    "print(a is c)\n",
    "print(a is not c)"
   ]
  },
  {
   "cell_type": "markdown",
   "id": "49935967",
   "metadata": {},
   "source": [
    "# Membership Operators\n",
    "- used to test given sequence is presented in objecyt\n",
    "- operators\n",
    "- **in**\n",
    "- **not in**"
   ]
  },
  {
   "cell_type": "code",
   "execution_count": 9,
   "id": "0811d367",
   "metadata": {},
   "outputs": [
    {
     "name": "stdout",
     "output_type": "stream",
     "text": [
      "True\n",
      "False\n",
      "False\n",
      "True\n"
     ]
    }
   ],
   "source": [
    "a=\"python\"\n",
    "print(\"y\" in a)\n",
    "print(\"s\" in a)\n",
    "print(\"tn\" in a)\n",
    "print(\"ahj\"not in a)"
   ]
  },
  {
   "cell_type": "markdown",
   "id": "e7bbf156",
   "metadata": {},
   "source": [
    "# Control Flow Statements\n",
    "- conditional statements\n",
    "    - if-else statements\n",
    "- Looping Statements\n",
    "    - While Loop statements\n",
    "    - for loop statements\n"
   ]
  },
  {
   "cell_type": "code",
   "execution_count": null,
   "id": "45c5ced3",
   "metadata": {},
   "outputs": [],
   "source": [
    "# syntax\n",
    "if boolean_condition:\n",
    "    statement\n",
    "elif:\n",
    "    statement\n",
    "else:\n",
    "    statement\n",
    "    "
   ]
  },
  {
   "cell_type": "code",
   "execution_count": 11,
   "id": "3ebf2c67",
   "metadata": {},
   "outputs": [
    {
     "name": "stdout",
     "output_type": "stream",
     "text": [
      "enter a number:0\n",
      "zero\n"
     ]
    }
   ],
   "source": [
    "n=int(input (\"enter a number:\" ))\n",
    "if  n>0:\n",
    "    \n",
    "    print(\"positive number\")\n",
    "elif n<0:\n",
    "    print(\"negative number\")\n",
    "else:\n",
    "    print(\"zero\")\n",
    "    "
   ]
  },
  {
   "cell_type": "code",
   "execution_count": 2,
   "id": "98390c65",
   "metadata": {},
   "outputs": [
    {
     "name": "stdout",
     "output_type": "stream",
     "text": [
      "enter first number4\n",
      "enter second number5\n",
      "enter third number6\n",
      "c is largest\n"
     ]
    }
   ],
   "source": [
    "a=int(input(\"enter first number\"))\n",
    "b=int(input(\"enter second number\"))\n",
    "c=int(input(\"enter third number\"))\n",
    "if a>b and a>c:\n",
    "     print(\"a is largest\")\n",
    "elif b>a and b>c:\n",
    "    print(\"b is largest\")\n",
    "else:\n",
    "    print(\"c is largest\")\n",
    "    \n",
    "        \n",
    "    \n",
    "        "
   ]
  },
  {
   "cell_type": "code",
   "execution_count": 14,
   "id": "0c3ce469",
   "metadata": {},
   "outputs": [
    {
     "name": "stdout",
     "output_type": "stream",
     "text": [
      "enter your marks25\n",
      "E grade\n"
     ]
    }
   ],
   "source": [
    "n=int(input(\"enter your marks\"))\n",
    "if n<25:\n",
    "    print(\"F grade\")\n",
    "elif n<=45:\n",
    "    print(\"E grade\")\n",
    "elif n<=50:\n",
    "    print(\"D grade\")\n",
    "elif n<=60:\n",
    "    print(\"C grade\")\n",
    "elif n<=80:\n",
    "    print(\"B grade\")\n",
    "elif n>=80:\n",
    "    print(\"A grade\")\n",
    "\n",
    "    "
   ]
  },
  {
   "cell_type": "markdown",
   "id": "c224e0cd",
   "metadata": {},
   "source": []
  },
  {
   "cell_type": "code",
   "execution_count": 1,
   "id": "d3d2b6ad",
   "metadata": {},
   "outputs": [
    {
     "name": "stdout",
     "output_type": "stream",
     "text": [
      "igiat\n",
      "igiat\n",
      "igiat\n",
      "igiat\n",
      "igiat\n"
     ]
    }
   ],
   "source": [
    "i=0\n",
    "while i<5:\n",
    "    print(\"igiat\")\n",
    "    i=i+1"
   ]
  },
  {
   "cell_type": "code",
   "execution_count": 7,
   "id": "9ef2cbaa",
   "metadata": {},
   "outputs": [
    {
     "name": "stdout",
     "output_type": "stream",
     "text": [
      "1\n",
      "2\n",
      "3\n",
      "4\n",
      "5\n",
      "6\n",
      "7\n",
      "8\n",
      "9\n",
      "10\n"
     ]
    }
   ],
   "source": [
    "i=1\n",
    "while i<=10:\n",
    "    print(i)\n",
    "    i=i+1\n",
    "    "
   ]
  },
  {
   "cell_type": "code",
   "execution_count": 1,
   "id": "3915701a",
   "metadata": {},
   "outputs": [
    {
     "name": "stdout",
     "output_type": "stream",
     "text": [
      "2\n",
      "4\n",
      "6\n",
      "8\n",
      "10\n"
     ]
    }
   ],
   "source": [
    "i=1\n",
    "while i<=10:\n",
    "    if i%2==0:\n",
    "        print(i)\n",
    "    i=i+1\n",
    "    \n",
    "   "
   ]
  },
  {
   "cell_type": "code",
   "execution_count": 10,
   "id": "512e5b93",
   "metadata": {},
   "outputs": [
    {
     "name": "stdout",
     "output_type": "stream",
     "text": [
      "6\n",
      "1\n",
      "2\n",
      "3\n",
      "6\n"
     ]
    }
   ],
   "source": [
    "i=1\n",
    "n=int(input())\n",
    "while i<=n:\n",
    "    if n%i==0:\n",
    "        print(i)\n",
    "    i=i+1\n",
    "    "
   ]
  },
  {
   "cell_type": "code",
   "execution_count": 12,
   "id": "902c5f50",
   "metadata": {},
   "outputs": [
    {
     "name": "stdout",
     "output_type": "stream",
     "text": [
      "12\n",
      "1 2 3 4 6 12 "
     ]
    }
   ],
   "source": [
    "i=1\n",
    "n=int(input())\n",
    "while i<=n:\n",
    "    if n%i==0:\n",
    "        print(i,end=\" \")\n",
    "    i=i+1\n",
    "    "
   ]
  },
  {
   "cell_type": "code",
   "execution_count": null,
   "id": "70f4d6bc",
   "metadata": {},
   "outputs": [],
   "source": []
  }
 ],
 "metadata": {
  "kernelspec": {
   "display_name": "Python 3 (ipykernel)",
   "language": "python",
   "name": "python3"
  },
  "language_info": {
   "codemirror_mode": {
    "name": "ipython",
    "version": 3
   },
   "file_extension": ".py",
   "mimetype": "text/x-python",
   "name": "python",
   "nbconvert_exporter": "python",
   "pygments_lexer": "ipython3",
   "version": "3.9.7"
  }
 },
 "nbformat": 4,
 "nbformat_minor": 5
}
