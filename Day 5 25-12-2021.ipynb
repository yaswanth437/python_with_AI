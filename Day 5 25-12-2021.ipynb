{
 "cells": [
  {
   "cell_type": "markdown",
   "id": "82519a8b",
   "metadata": {},
   "source": [
    "# Markdown\n",
    "## Markdown\n",
    "### Markdown\n",
    "#### Markdown\n",
    "# python\n",
    "  - Python\n",
    "      - python 1\n",
    "      - python 2\n",
    "      \n",
    "  # Font styles\n",
    "   - **Python**\n",
    "   - *python*\n",
    "   - ***python***\n",
    "   \n",
    "   \n",
    "  # Print Function():\n",
    "   - in python print function used to print specific text or message"
   ]
  },
  {
   "cell_type": "code",
   "execution_count": 2,
   "id": "0e40a0bd",
   "metadata": {},
   "outputs": [
    {
     "name": "stdout",
     "output_type": "stream",
     "text": [
      "Hello , World\n"
     ]
    }
   ],
   "source": [
    "print(\"Hello , World\")"
   ]
  },
  {
   "cell_type": "code",
   "execution_count": 7,
   "id": "0af91ba8",
   "metadata": {},
   "outputs": [
    {
     "name": "stdout",
     "output_type": "stream",
     "text": [
      "Hello World\n"
     ]
    }
   ],
   "source": [
    "print(\"Hello World\")"
   ]
  },
  {
   "cell_type": "code",
   "execution_count": 3,
   "id": "3338a978",
   "metadata": {},
   "outputs": [
    {
     "name": "stdout",
     "output_type": "stream",
     "text": [
      "one Two Three\n"
     ]
    }
   ],
   "source": [
    "print(\"one\",\"Two\",\"Three\")"
   ]
  },
  {
   "cell_type": "markdown",
   "id": "83e4ab31",
   "metadata": {},
   "source": [
    "# Variable\n",
    "- TO store some data values"
   ]
  },
  {
   "cell_type": "code",
   "execution_count": 3,
   "id": "d865b8c4",
   "metadata": {},
   "outputs": [
    {
     "name": "stdout",
     "output_type": "stream",
     "text": [
      "10\n"
     ]
    }
   ],
   "source": [
    "a=10 \n",
    "print(a)"
   ]
  },
  {
   "cell_type": "code",
   "execution_count": 4,
   "id": "4c03b6b0",
   "metadata": {},
   "outputs": [
    {
     "name": "stdout",
     "output_type": "stream",
     "text": [
      "10 10 10\n"
     ]
    }
   ],
   "source": [
    "a=b=c=10\n",
    "print(a,b,c)"
   ]
  },
  {
   "cell_type": "code",
   "execution_count": 5,
   "id": "fe81dc7c",
   "metadata": {},
   "outputs": [
    {
     "name": "stdout",
     "output_type": "stream",
     "text": [
      "10 20 30\n"
     ]
    }
   ],
   "source": [
    "a,b,c=10,20,30\n",
    "print(a,b,c)"
   ]
  },
  {
   "cell_type": "markdown",
   "id": "869f8a47",
   "metadata": {},
   "source": [
    "# input function\n",
    "- accept input from user"
   ]
  },
  {
   "cell_type": "code",
   "execution_count": 7,
   "id": "c58ac29b",
   "metadata": {},
   "outputs": [
    {
     "name": "stdout",
     "output_type": "stream",
     "text": [
      "enter your name:vamsi\n",
      "your name is: vamsi\n",
      "<class 'str'>\n"
     ]
    }
   ],
   "source": [
    "# input as text\n",
    "x = input(\"enter your name:\")\n",
    "print(\"your name is:\",x)\n",
    "print (type(x))"
   ]
  },
  {
   "cell_type": "code",
   "execution_count": 8,
   "id": "b49b0f95",
   "metadata": {},
   "outputs": [
    {
     "name": "stdout",
     "output_type": "stream",
     "text": [
      "Enter a number :20\n",
      "20\n",
      "<class 'int'>\n"
     ]
    }
   ],
   "source": [
    "#Input as number\n",
    "n= int(input(\"Enter a number :\"))\n",
    "print(n)\n",
    "print(type(n))"
   ]
  },
  {
   "cell_type": "markdown",
   "id": "5927f7d5",
   "metadata": {},
   "source": [
    "# Data types"
   ]
  },
  {
   "cell_type": "code",
   "execution_count": 9,
   "id": "bb92c2e5",
   "metadata": {},
   "outputs": [
    {
     "name": "stdout",
     "output_type": "stream",
     "text": [
      "10\n",
      "<class 'int'>\n"
     ]
    }
   ],
   "source": [
    "# integer\n",
    "x=10\n",
    "print(x)\n",
    "print(type(x))\n"
   ]
  },
  {
   "cell_type": "code",
   "execution_count": 10,
   "id": "5739da5c",
   "metadata": {},
   "outputs": [
    {
     "name": "stdout",
     "output_type": "stream",
     "text": [
      "10.3\n",
      "<class 'float'>\n"
     ]
    }
   ],
   "source": [
    "# float\n",
    "a=10.3\n",
    "print(a)\n",
    "print(type(a))"
   ]
  },
  {
   "cell_type": "code",
   "execution_count": 11,
   "id": "e4924840",
   "metadata": {},
   "outputs": [
    {
     "name": "stdout",
     "output_type": "stream",
     "text": [
      "Vamsi\n",
      "<class 'str'>\n"
     ]
    }
   ],
   "source": [
    "#string\n",
    "s=\"Vamsi\"\n",
    "print(s)\n",
    "print(type(s))"
   ]
  },
  {
   "cell_type": "markdown",
   "id": "4d57787b",
   "metadata": {},
   "source": [
    "# Data conversion"
   ]
  },
  {
   "cell_type": "code",
   "execution_count": 18,
   "id": "cf43ef97",
   "metadata": {},
   "outputs": [
    {
     "name": "stdout",
     "output_type": "stream",
     "text": [
      "5 <class 'int'>\n"
     ]
    }
   ],
   "source": [
    "# integer\n",
    "n=5\n",
    "print(n,type(n))\n"
   ]
  },
  {
   "cell_type": "code",
   "execution_count": 19,
   "id": "13dbc900",
   "metadata": {},
   "outputs": [
    {
     "name": "stdout",
     "output_type": "stream",
     "text": [
      "25631 <class 'int'>\n",
      "25631 <class 'int'>\n"
     ]
    }
   ],
   "source": [
    "# string \n",
    "s=25631\n",
    "print(s,type(s))\n",
    "i=int(s)\n",
    "print(i,type(i))"
   ]
  },
  {
   "cell_type": "code",
   "execution_count": 20,
   "id": "e7573a86",
   "metadata": {},
   "outputs": [
    {
     "name": "stdout",
     "output_type": "stream",
     "text": [
      "name is James\n"
     ]
    }
   ],
   "source": [
    "#string\n",
    "v=\"name\"\n",
    "d=\"is\"\n",
    "f=\"James\"\n",
    "print(v,d,f)"
   ]
  },
  {
   "cell_type": "code",
   "execution_count": 8,
   "id": "dee7f5a3",
   "metadata": {},
   "outputs": [
    {
     "name": "stdout",
     "output_type": "stream",
     "text": [
      "enter two numbers:\n",
      "enter one value12\n",
      "enter another value21\n",
      "sum is 33\n",
      "mul is 252\n",
      "div is 0.5714285714285714\n"
     ]
    }
   ],
   "source": [
    "# accept the input values from user and sum multiplication, division\n",
    "\n",
    "print(\"enter two numbers:\")\n",
    "q=int(input(\"enter one value\"))\n",
    "e=int(input(\"enter another value\"))\n",
    "a=q+e\n",
    "t=q*e\n",
    "k=q/e\n",
    "print(\"sum is\",a)\n",
    "print(\"mul is\",t)\n",
    "print(\"div is\",k)\n"
   ]
  },
  {
   "cell_type": "code",
   "execution_count": 5,
   "id": "217fb09b",
   "metadata": {},
   "outputs": [
    {
     "name": "stdout",
     "output_type": "stream",
     "text": [
      "enter a radius value12\n",
      "radius is 452.15999999999997\n"
     ]
    }
   ],
   "source": [
    "# calculate radius\n",
    "pie=3.14\n",
    "r=int(input(\"enter a radius value\"))\n",
    "o=pie*r*r\n",
    "print(\"radius is\",o)"
   ]
  },
  {
   "cell_type": "code",
   "execution_count": 7,
   "id": "3e07fc1e",
   "metadata": {},
   "outputs": [
    {
     "name": "stdout",
     "output_type": "stream",
     "text": [
      "enter a value2000\n",
      "year is 2050\n"
     ]
    }
   ],
   "source": [
    "#print a year\n",
    "g=int(input(\"enter a value\"))\n",
    "g=g+50\n",
    "print(\"year is\",g)"
   ]
  },
  {
   "cell_type": "code",
   "execution_count": null,
   "id": "fbe630e2",
   "metadata": {},
   "outputs": [],
   "source": []
  }
 ],
 "metadata": {
  "kernelspec": {
   "display_name": "Python 3 (ipykernel)",
   "language": "python",
   "name": "python3"
  },
  "language_info": {
   "codemirror_mode": {
    "name": "ipython",
    "version": 3
   },
   "file_extension": ".py",
   "mimetype": "text/x-python",
   "name": "python",
   "nbconvert_exporter": "python",
   "pygments_lexer": "ipython3",
   "version": "3.9.7"
  }
 },
 "nbformat": 4,
 "nbformat_minor": 5
}
